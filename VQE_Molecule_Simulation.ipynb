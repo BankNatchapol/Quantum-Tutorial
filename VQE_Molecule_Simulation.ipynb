{
  "nbformat": 4,
  "nbformat_minor": 0,
  "metadata": {
    "colab": {
      "name": "VQE-Molecule-Simulation.ipynb",
      "provenance": [],
      "collapsed_sections": [],
      "authorship_tag": "ABX9TyPrTpDmuddsji4HRg5SX1Id",
      "include_colab_link": true
    },
    "kernelspec": {
      "display_name": "Python 3",
      "name": "python3"
    },
    "language_info": {
      "name": "python"
    }
  },
  "cells": [
    {
      "cell_type": "markdown",
      "metadata": {
        "id": "view-in-github",
        "colab_type": "text"
      },
      "source": [
        "<a href=\"https://colab.research.google.com/github/BankNatchapol/Quantum-Tutorial/blob/main/VQE_Molecule_Simulation.ipynb\" target=\"_parent\"><img src=\"https://colab.research.google.com/assets/colab-badge.svg\" alt=\"Open In Colab\"/></a>"
      ]
    },
    {
      "cell_type": "code",
      "metadata": {
        "id": "LlIPb5sVw51f"
      },
      "source": [
        "!pip install qiskit\n",
        "!pip install pylatexenc"
      ],
      "execution_count": null,
      "outputs": []
    },
    {
      "cell_type": "code",
      "metadata": {
        "id": "lk_Vy8gQoW95"
      },
      "source": [
        "from qiskit import BasicAer\n",
        "from qiskit.opflow import X, Z, I\n",
        "from qiskit.algorithms import VQE\n",
        "from qiskit.algorithms.optimizers import SLSQP, SPSA\n",
        "from qiskit.circuit.library import EfficientSU2\n",
        "from qiskit.providers.basicaer import QasmSimulatorPy  # local simulator\n",
        "\n",
        "import numpy as np\n",
        "import matplotlib.pyplot as plt"
      ],
      "execution_count": null,
      "outputs": []
    },
    {
      "cell_type": "markdown",
      "metadata": {
        "id": "__axwkf7xN-h"
      },
      "source": [
        "# Define Hamiltonian \n",
        "hydrogen atom \n",
        "$$\\mathcal{H} = - \\sum_I \\frac{\\nabla_{R_I}^2}{M_I} - \\sum_i \\frac{\\nabla_{r_i}^2}{m_e} - \\sum_I\\sum_i  \\frac{Z_I e^2}{|R_I-r_i|} + \\sum_i \\sum_{j>i} \\frac{e^2}{|r_i-r_j|} + \\sum_I\\sum_{J>I} \\frac{Z_I Z_J e^2}{|R_I-R_J|}$$"
      ]
    },
    {
      "cell_type": "code",
      "metadata": {
        "id": "kS5UbFK5xMhy"
      },
      "source": [
        "hamiltonian  = (-1.052373245772859 * I ^ I) + \\\n",
        "              (0.39793742484318045 * I ^ Z) + \\\n",
        "              (-0.39793742484318045 * Z ^ I) + \\\n",
        "              (-0.01128010425623538 * Z ^ Z) + \\\n",
        "              (0.18093119978423156 * X ^ X)"
      ],
      "execution_count": null,
      "outputs": []
    },
    {
      "cell_type": "markdown",
      "metadata": {
        "id": "ZYqkWsVI1VYL"
      },
      "source": [
        "# Define Ansatz\n",
        "using EfficientSU2"
      ]
    },
    {
      "cell_type": "code",
      "metadata": {
        "id": "vRz--mtz0kBQ"
      },
      "source": [
        "num_qubits = 2"
      ],
      "execution_count": null,
      "outputs": []
    },
    {
      "cell_type": "code",
      "metadata": {
        "id": "UZS7oV5Bx-F9",
        "colab": {
          "base_uri": "https://localhost:8080/"
        },
        "outputId": "64f157f4-f2d1-478d-de49-14abe2d8db3a"
      },
      "source": [
        "ansatz = EfficientSU2(num_qubits, reps=2, entanglement='linear', insert_barriers=True)\n",
        "print(ansatz)"
      ],
      "execution_count": null,
      "outputs": [
        {
          "output_type": "stream",
          "text": [
            "     ┌──────────┐┌──────────┐ ░       ░ ┌──────────┐┌──────────┐ ░       ░ »\n",
            "q_0: ┤ Ry(θ[0]) ├┤ Rz(θ[2]) ├─░───■───░─┤ Ry(θ[4]) ├┤ Rz(θ[6]) ├─░───■───░─»\n",
            "     ├──────────┤├──────────┤ ░ ┌─┴─┐ ░ ├──────────┤├──────────┤ ░ ┌─┴─┐ ░ »\n",
            "q_1: ┤ Ry(θ[1]) ├┤ Rz(θ[3]) ├─░─┤ X ├─░─┤ Ry(θ[5]) ├┤ Rz(θ[7]) ├─░─┤ X ├─░─»\n",
            "     └──────────┘└──────────┘ ░ └───┘ ░ └──────────┘└──────────┘ ░ └───┘ ░ »\n",
            "«     ┌──────────┐┌───────────┐\n",
            "«q_0: ┤ Ry(θ[8]) ├┤ Rz(θ[10]) ├\n",
            "«     ├──────────┤├───────────┤\n",
            "«q_1: ┤ Ry(θ[9]) ├┤ Rz(θ[11]) ├\n",
            "«     └──────────┘└───────────┘\n"
          ],
          "name": "stdout"
        }
      ]
    },
    {
      "cell_type": "markdown",
      "metadata": {
        "id": "9u_jrbUK1h5v"
      },
      "source": [
        "# Define Optimizer\n",
        "using SPSA"
      ]
    },
    {
      "cell_type": "code",
      "metadata": {
        "id": "VmCjeCo-zwYP"
      },
      "source": [
        "optimizer = SPSA(maxiter = 1000)"
      ],
      "execution_count": null,
      "outputs": []
    },
    {
      "cell_type": "markdown",
      "metadata": {
        "id": "-V1vZWK_2LnA"
      },
      "source": [
        "# Callback infomation"
      ]
    },
    {
      "cell_type": "code",
      "metadata": {
        "id": "L-CyWyk_1uh4"
      },
      "source": [
        "intermediate_info = {\n",
        "    'nfev': [],\n",
        "    'parameters': [],\n",
        "    'energy': [],\n",
        "    'stddev': []\n",
        "}\n",
        "\n",
        "def callback(nfev, parameters, energy, stddev):\n",
        "    intermediate_info['nfev'].append(nfev)\n",
        "    intermediate_info['parameters'].append(parameters)\n",
        "    intermediate_info['energy'].append(energy)\n",
        "    intermediate_info['stddev'].append(stddev)"
      ],
      "execution_count": null,
      "outputs": []
    },
    {
      "cell_type": "markdown",
      "metadata": {
        "id": "ylCNqsDG2RGB"
      },
      "source": [
        "# Initialize parameters"
      ]
    },
    {
      "cell_type": "code",
      "metadata": {
        "colab": {
          "base_uri": "https://localhost:8080/"
        },
        "id": "GpYDrnJs2OjI",
        "outputId": "bc18df97-a8aa-4ffb-fe17-1173d90abaf3"
      },
      "source": [
        "np.random.seed(0)\n",
        "initial_point = np.random.random(ansatz.num_parameters)\n",
        "initial_point"
      ],
      "execution_count": null,
      "outputs": [
        {
          "output_type": "execute_result",
          "data": {
            "text/plain": [
              "array([0.5488135 , 0.71518937, 0.60276338, 0.54488318, 0.4236548 ,\n",
              "       0.64589411, 0.43758721, 0.891773  , 0.96366276, 0.38344152,\n",
              "       0.79172504, 0.52889492])"
            ]
          },
          "metadata": {
            "tags": []
          },
          "execution_count": 81
        }
      ]
    },
    {
      "cell_type": "markdown",
      "metadata": {
        "id": "o5z0Kuse6EE1"
      },
      "source": [
        "# Define VQE"
      ]
    },
    {
      "cell_type": "markdown",
      "metadata": {
        "id": "28aijH4piZiK"
      },
      "source": [
        "with objective function\n",
        "$$E_{min} = min\\langle \\Psi(\\vec{\\theta}) | H | \\Psi(\\vec{\\theta}) \\rangle$$"
      ]
    },
    {
      "cell_type": "code",
      "metadata": {
        "id": "rrRNVOaA2Wzh"
      },
      "source": [
        "local_vqe = VQE(ansatz=ansatz,\n",
        "                optimizer=optimizer,\n",
        "                initial_point=initial_point,\n",
        "                quantum_instance=QasmSimulatorPy(),\n",
        "                callback=callback)"
      ],
      "execution_count": null,
      "outputs": []
    },
    {
      "cell_type": "markdown",
      "metadata": {
        "id": "eVxbKDZl6Il6"
      },
      "source": [
        "# Running VQE to find mimum eigenvalue"
      ]
    },
    {
      "cell_type": "code",
      "metadata": {
        "colab": {
          "base_uri": "https://localhost:8080/"
        },
        "id": "Fh5209Uh2oma",
        "outputId": "10f733a7-03be-4f33-ff62-c50acf78cf3a"
      },
      "source": [
        "local_result = local_vqe.compute_minimum_eigenvalue(hamiltonian)"
      ],
      "execution_count": null,
      "outputs": [
        {
          "output_type": "stream",
          "text": [
            "/usr/local/lib/python3.7/dist-packages/qiskit/utils/run_circuits.py:695: UserWarning: Option max_credits is not used by this backend\n",
            "  return backend.run(circuits, **run_kwargs)\n"
          ],
          "name": "stderr"
        }
      ]
    },
    {
      "cell_type": "code",
      "metadata": {
        "colab": {
          "base_uri": "https://localhost:8080/",
          "height": 279
        },
        "id": "FE3TPMEd7JXe",
        "outputId": "cec89818-cc24-43d4-a2e6-37954ba16a2e"
      },
      "source": [
        "plt.ylabel('Energy')\n",
        "plt.xlabel('Iter')\n",
        "plt.plot(intermediate_info['energy']);"
      ],
      "execution_count": null,
      "outputs": [
        {
          "output_type": "display_data",
          "data": {
            "image/png": "[encoded data removed]",
            "text/plain": [
              "<Figure size 432x288 with 1 Axes>"
            ]
          },
          "metadata": {
            "tags": [],
            "needs_background": "light"
          }
        }
      ]
    },
    {
      "cell_type": "markdown",
      "metadata": {
        "id": "obwdvAAI6OYJ"
      },
      "source": [
        "# Evaluate"
      ]
    },
    {
      "cell_type": "code",
      "metadata": {
        "colab": {
          "base_uri": "https://localhost:8080/"
        },
        "id": "bSCdsK0e35Ex",
        "outputId": "d7371e2e-f925-4775-c37c-8819b2d350ca"
      },
      "source": [
        "print('Mean error:', np.mean(intermediate_info['stddev']))"
      ],
      "execution_count": null,
      "outputs": [
        {
          "output_type": "stream",
          "text": [
            "Mean error: 0.009040134496295066\n"
          ],
          "name": "stdout"
        }
      ]
    },
    {
      "cell_type": "code",
      "metadata": {
        "colab": {
          "base_uri": "https://localhost:8080/"
        },
        "id": "HYqGPD814nhH",
        "outputId": "04a6bbe7-6ce4-4b54-9fbd-5e965ac11426"
      },
      "source": [
        "local_result.__dict__"
      ],
      "execution_count": null,
      "outputs": [
        {
          "output_type": "execute_result",
          "data": {
            "text/plain": [
              "{'_aux_operator_eigenvalues': None,\n",
              " '_cost_function_evals': 2000,\n",
              " '_eigenstate': {'01': 0.9921567416492215, '10': 0.125},\n",
              " '_eigenvalue': (-1.8515325118738466+0j),\n",
              " '_optimal_parameters': {ParameterVectorElement(θ[0]): 1.6063743206566206,\n",
              "  ParameterVectorElement(θ[10]): 1.1312403387915246,\n",
              "  ParameterVectorElement(θ[11]): -0.7678578596860559,\n",
              "  ParameterVectorElement(θ[1]): -0.31674997796351506,\n",
              "  ParameterVectorElement(θ[2]): -0.14141423953851467,\n",
              "  ParameterVectorElement(θ[3]): 0.4196370958998919,\n",
              "  ParameterVectorElement(θ[4]): 0.4983402636713963,\n",
              "  ParameterVectorElement(θ[5]): 0.5302148700931806,\n",
              "  ParameterVectorElement(θ[6]): -0.7348134156605604,\n",
              "  ParameterVectorElement(θ[7]): 0.915479936449036,\n",
              "  ParameterVectorElement(θ[8]): 1.6862459875593157,\n",
              "  ParameterVectorElement(θ[9]): 0.16207068667307217},\n",
              " '_optimal_point': array([ 1.60637432, -0.31674998, -0.14141424,  0.4196371 ,  0.49834026,\n",
              "         0.53021487, -0.73481342,  0.91547994,  1.68624599,  0.16207069,\n",
              "         1.13124034, -0.76785786]),\n",
              " '_optimal_value': -1.8515325118738466,\n",
              " '_optimizer_evals': None,\n",
              " '_optimizer_time': 27.924036026000977}"
            ]
          },
          "metadata": {
            "tags": []
          },
          "execution_count": 87
        }
      ]
    }
  ]
}