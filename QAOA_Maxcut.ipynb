{
  "nbformat": 4,
  "nbformat_minor": 0,
  "metadata": {
    "colab": {
      "name": "QAOA_Maxcut.ipynb",
      "provenance": [],
      "collapsed_sections": [],
      "authorship_tag": "ABX9TyPCJoDYcyZ2JGlrusWrnH77",
      "include_colab_link": true
    },
    "kernelspec": {
      "name": "python3",
      "display_name": "Python 3"
    },
    "language_info": {
      "name": "python"
    }
  },
  "cells": [
    {
      "cell_type": "markdown",
      "metadata": {
        "id": "view-in-github",
        "colab_type": "text"
      },
      "source": [
        "<a href=\"https://colab.research.google.com/github/BankNatchapol/Quantum-Tutorial/blob/main/QAOA_Maxcut.ipynb\" target=\"_parent\"><img src=\"https://colab.research.google.com/assets/colab-badge.svg\" alt=\"Open In Colab\"/></a>"
      ]
    },
    {
      "cell_type": "code",
      "metadata": {
        "id": "lOEwJEL2uj46",
        "colab": {
          "base_uri": "https://localhost:8080/"
        },
        "outputId": "f35b3c55-e34f-40c9-9558-0a9e32a94221"
      },
      "source": [
        "!pip install qiskit\n",
        "!pip install pylatexenc"
      ],
      "execution_count": null,
      "outputs": [
        {
          "output_type": "stream",
          "text": [
            "Collecting qiskit\n",
            "  Downloading qiskit-0.28.0.tar.gz (12 kB)\n",
            "Collecting qiskit-terra==0.18.0\n",
            "  Downloading qiskit_terra-0.18.0-cp37-cp37m-manylinux2010_x86_64.whl (6.1 MB)\n",
            "\u001b[K     |████████████████████████████████| 6.1 MB 8.4 MB/s \n",
            "\u001b[?25hCollecting qiskit-aer==0.8.2\n",
            "  Downloading qiskit_aer-0.8.2-cp37-cp37m-manylinux2010_x86_64.whl (18.0 MB)\n",
            "\u001b[K     |████████████████████████████████| 18.0 MB 270 kB/s \n",
            "\u001b[?25hCollecting qiskit-ibmq-provider==0.15.0\n",
            "  Downloading qiskit_ibmq_provider-0.15.0-py3-none-any.whl (234 kB)\n",
            "\u001b[K     |████████████████████████████████| 234 kB 57.6 MB/s \n",
            "\u001b[?25hCollecting qiskit-ignis==0.6.0\n",
            "  Downloading qiskit_ignis-0.6.0-py3-none-any.whl (207 kB)\n",
            "\u001b[K     |████████████████████████████████| 207 kB 58.5 MB/s \n",
            "\u001b[?25hCollecting qiskit-aqua==0.9.4\n",
            "  Downloading qiskit_aqua-0.9.4-py3-none-any.whl (2.1 MB)\n",
            "\u001b[K     |████████████████████████████████| 2.1 MB 31.4 MB/s \n",
            "\u001b[?25hRequirement already satisfied: numpy>=1.16.3 in /usr/local/lib/python3.7/dist-packages (from qiskit-aer==0.8.2->qiskit) (1.19.5)\n",
            "Requirement already satisfied: scipy>=1.0 in /usr/local/lib/python3.7/dist-packages (from qiskit-aer==0.8.2->qiskit) (1.4.1)\n",
            "Collecting pybind11>=2.6\n",
            "  Downloading pybind11-2.7.0-py2.py3-none-any.whl (199 kB)\n",
            "\u001b[K     |████████████████████████████████| 199 kB 57.8 MB/s \n",
            "\u001b[?25hCollecting dlx<=1.0.4\n",
            "  Downloading dlx-1.0.4.tar.gz (5.5 kB)\n",
            "Requirement already satisfied: pandas in /usr/local/lib/python3.7/dist-packages (from qiskit-aqua==0.9.4->qiskit) (1.1.5)\n",
            "Requirement already satisfied: psutil>=5 in /usr/local/lib/python3.7/dist-packages (from qiskit-aqua==0.9.4->qiskit) (5.4.8)\n",
            "Requirement already satisfied: scikit-learn>=0.20.0 in /usr/local/lib/python3.7/dist-packages (from qiskit-aqua==0.9.4->qiskit) (0.22.2.post1)\n",
            "Collecting retworkx>=0.8.0\n",
            "  Downloading retworkx-0.9.0-cp37-cp37m-manylinux_2_5_x86_64.manylinux1_x86_64.manylinux_2_12_x86_64.manylinux2010_x86_64.whl (1.4 MB)\n",
            "\u001b[K     |████████████████████████████████| 1.4 MB 31.6 MB/s \n",
            "\u001b[?25hRequirement already satisfied: h5py<3.3.0 in /usr/local/lib/python3.7/dist-packages (from qiskit-aqua==0.9.4->qiskit) (3.1.0)\n",
            "Requirement already satisfied: sympy>=1.3 in /usr/local/lib/python3.7/dist-packages (from qiskit-aqua==0.9.4->qiskit) (1.7.1)\n",
            "Requirement already satisfied: setuptools>=40.1.0 in /usr/local/lib/python3.7/dist-packages (from qiskit-aqua==0.9.4->qiskit) (57.2.0)\n",
            "Collecting quandl\n",
            "  Downloading Quandl-3.6.1-py2.py3-none-any.whl (26 kB)\n",
            "Collecting docplex>=2.21.207\n",
            "  Downloading docplex-2.21.207.tar.gz (635 kB)\n",
            "\u001b[K     |████████████████████████████████| 635 kB 47.0 MB/s \n",
            "\u001b[?25hRequirement already satisfied: fastdtw<=0.3.4 in /usr/local/lib/python3.7/dist-packages (from qiskit-aqua==0.9.4->qiskit) (0.3.4)\n",
            "Collecting yfinance<0.1.63\n",
            "  Downloading yfinance-0.1.62.tar.gz (26 kB)\n",
            "Requirement already satisfied: requests>=2.19 in /usr/local/lib/python3.7/dist-packages (from qiskit-ibmq-provider==0.15.0->qiskit) (2.23.0)\n",
            "Collecting websocket-client>=1.0.1\n",
            "  Downloading websocket_client-1.1.0-py2.py3-none-any.whl (68 kB)\n",
            "\u001b[K     |████████████████████████████████| 68 kB 6.6 MB/s \n",
            "\u001b[?25hCollecting requests-ntlm>=1.1.0\n",
            "  Downloading requests_ntlm-1.1.0-py2.py3-none-any.whl (5.7 kB)\n",
            "Requirement already satisfied: python-dateutil>=2.8.0 in /usr/local/lib/python3.7/dist-packages (from qiskit-ibmq-provider==0.15.0->qiskit) (2.8.1)\n",
            "Requirement already satisfied: urllib3>=1.21.1 in /usr/local/lib/python3.7/dist-packages (from qiskit-ibmq-provider==0.15.0->qiskit) (1.24.3)\n",
            "Collecting python-constraint>=1.4\n",
            "  Downloading python-constraint-1.4.0.tar.bz2 (18 kB)\n",
            "Collecting symengine>0.7\n",
            "  Downloading symengine-0.7.2-cp37-cp37m-manylinux2010_x86_64.whl (33.9 MB)\n",
            "\u001b[K     |████████████████████████████████| 33.9 MB 45 kB/s \n",
            "\u001b[?25hRequirement already satisfied: jsonschema>=2.6 in /usr/local/lib/python3.7/dist-packages (from qiskit-terra==0.18.0->qiskit) (2.6.0)\n",
            "Collecting tweedledum<2.0,>=1.1\n",
            "  Downloading tweedledum-1.1.0-cp37-cp37m-manylinux_2_12_x86_64.manylinux2010_x86_64.whl (943 kB)\n",
            "\u001b[K     |████████████████████████████████| 943 kB 37.0 MB/s \n",
            "\u001b[?25hRequirement already satisfied: dill>=0.3 in /usr/local/lib/python3.7/dist-packages (from qiskit-terra==0.18.0->qiskit) (0.3.4)\n",
            "Collecting ply>=3.10\n",
            "  Downloading ply-3.11-py2.py3-none-any.whl (49 kB)\n",
            "\u001b[K     |████████████████████████████████| 49 kB 5.0 MB/s \n",
            "\u001b[?25hCollecting fastjsonschema>=2.10\n",
            "  Downloading fastjsonschema-2.15.1-py3-none-any.whl (21 kB)\n",
            "Requirement already satisfied: six in /usr/local/lib/python3.7/dist-packages (from docplex>=2.21.207->qiskit-aqua==0.9.4->qiskit) (1.15.0)\n",
            "Requirement already satisfied: cached-property in /usr/local/lib/python3.7/dist-packages (from h5py<3.3.0->qiskit-aqua==0.9.4->qiskit) (1.5.2)\n",
            "Requirement already satisfied: certifi>=2017.4.17 in /usr/local/lib/python3.7/dist-packages (from requests>=2.19->qiskit-ibmq-provider==0.15.0->qiskit) (2021.5.30)\n",
            "Requirement already satisfied: chardet<4,>=3.0.2 in /usr/local/lib/python3.7/dist-packages (from requests>=2.19->qiskit-ibmq-provider==0.15.0->qiskit) (3.0.4)\n",
            "Requirement already satisfied: idna<3,>=2.5 in /usr/local/lib/python3.7/dist-packages (from requests>=2.19->qiskit-ibmq-provider==0.15.0->qiskit) (2.10)\n",
            "Collecting ntlm-auth>=1.0.2\n",
            "  Downloading ntlm_auth-1.5.0-py2.py3-none-any.whl (29 kB)\n",
            "Collecting cryptography>=1.3\n",
            "  Downloading cryptography-3.4.7-cp36-abi3-manylinux2014_x86_64.whl (3.2 MB)\n",
            "\u001b[K     |████████████████████████████████| 3.2 MB 34.5 MB/s \n",
            "\u001b[?25hRequirement already satisfied: cffi>=1.12 in /usr/local/lib/python3.7/dist-packages (from cryptography>=1.3->requests-ntlm>=1.1.0->qiskit-ibmq-provider==0.15.0->qiskit) (1.14.6)\n",
            "Requirement already satisfied: pycparser in /usr/local/lib/python3.7/dist-packages (from cffi>=1.12->cryptography>=1.3->requests-ntlm>=1.1.0->qiskit-ibmq-provider==0.15.0->qiskit) (2.20)\n",
            "Requirement already satisfied: joblib>=0.11 in /usr/local/lib/python3.7/dist-packages (from scikit-learn>=0.20.0->qiskit-aqua==0.9.4->qiskit) (1.0.1)\n",
            "Requirement already satisfied: mpmath>=0.19 in /usr/local/lib/python3.7/dist-packages (from sympy>=1.3->qiskit-aqua==0.9.4->qiskit) (1.2.1)\n",
            "Requirement already satisfied: multitasking>=0.0.7 in /usr/local/lib/python3.7/dist-packages (from yfinance<0.1.63->qiskit-aqua==0.9.4->qiskit) (0.0.9)\n",
            "Collecting lxml>=4.5.1\n",
            "  Downloading lxml-4.6.3-cp37-cp37m-manylinux2014_x86_64.whl (6.3 MB)\n",
            "\u001b[K     |████████████████████████████████| 6.3 MB 30.6 MB/s \n",
            "\u001b[?25hRequirement already satisfied: pytz>=2017.2 in /usr/local/lib/python3.7/dist-packages (from pandas->qiskit-aqua==0.9.4->qiskit) (2018.9)\n",
            "Collecting inflection>=0.3.1\n",
            "  Downloading inflection-0.5.1-py2.py3-none-any.whl (9.5 kB)\n",
            "Requirement already satisfied: more-itertools in /usr/local/lib/python3.7/dist-packages (from quandl->qiskit-aqua==0.9.4->qiskit) (8.8.0)\n",
            "Building wheels for collected packages: qiskit, dlx, docplex, python-constraint, yfinance\n",
            "  Building wheel for qiskit (setup.py) ... \u001b[?25l\u001b[?25hdone\n",
            "  Created wheel for qiskit: filename=qiskit-0.28.0-py3-none-any.whl size=11090 sha256=7b0c376f1f70ec80f1dad6f5606803ee20a20f731d587417f86d1e065d9bbc73\n",
            "  Stored in directory: /root/.cache/pip/wheels/aa/7f/f7/f684068656b60591be96f758a6e80454a5ea5af86152598539\n",
            "  Building wheel for dlx (setup.py) ... \u001b[?25l\u001b[?25hdone\n",
            "  Created wheel for dlx: filename=dlx-1.0.4-py3-none-any.whl size=5719 sha256=7803bc651e9c7ef0db6e6bbd4cdacdc886fc7105cfc26b050fea446ec5ad04c5\n",
            "  Stored in directory: /root/.cache/pip/wheels/78/55/c8/dc61e772445a566b7608a476d151e9dcaf4e092b01b0c4bc3c\n",
            "  Building wheel for docplex (setup.py) ... \u001b[?25l\u001b[?25hdone\n",
            "  Created wheel for docplex: filename=docplex-2.21.207-py3-none-any.whl size=700543 sha256=1262e4e1b416aeb993c0700659be8d93e0a8966f34ebc9a9d581e709815ca4d4\n",
            "  Stored in directory: /root/.cache/pip/wheels/d8/4e/62/e43a45757e70549e6aa4712ccfcf67440a203c278ecb68de49\n",
            "  Building wheel for python-constraint (setup.py) ... \u001b[?25l\u001b[?25hdone\n",
            "  Created wheel for python-constraint: filename=python_constraint-1.4.0-py2.py3-none-any.whl size=24079 sha256=6cd279e83912aab52e597ad645d215d668a183c4851fb6102f4556011cdafa5b\n",
            "  Stored in directory: /root/.cache/pip/wheels/07/27/db/1222c80eb1e431f3d2199c12569cb1cac60f562a451fe30479\n",
            "  Building wheel for yfinance (setup.py) ... \u001b[?25l\u001b[?25hdone\n",
            "  Created wheel for yfinance: filename=yfinance-0.1.62-py2.py3-none-any.whl size=23867 sha256=0520e9c8a83efc7eba9e87d2856e1599ba1bb7881c0cbb62f754453314b3e7d1\n",
            "  Stored in directory: /root/.cache/pip/wheels/4c/3a/2e/53936bb0b112189d5532492b32dd8f3e442cba9d832ceef3b6\n",
            "Successfully built qiskit dlx docplex python-constraint yfinance\n",
            "Installing collected packages: tweedledum, symengine, retworkx, python-constraint, ply, fastjsonschema, qiskit-terra, ntlm-auth, lxml, inflection, cryptography, yfinance, websocket-client, requests-ntlm, quandl, qiskit-ignis, pybind11, docplex, dlx, qiskit-ibmq-provider, qiskit-aqua, qiskit-aer, qiskit\n",
            "  Attempting uninstall: lxml\n",
            "    Found existing installation: lxml 4.2.6\n",
            "    Uninstalling lxml-4.2.6:\n",
            "      Successfully uninstalled lxml-4.2.6\n",
            "Successfully installed cryptography-3.4.7 dlx-1.0.4 docplex-2.21.207 fastjsonschema-2.15.1 inflection-0.5.1 lxml-4.6.3 ntlm-auth-1.5.0 ply-3.11 pybind11-2.7.0 python-constraint-1.4.0 qiskit-0.28.0 qiskit-aer-0.8.2 qiskit-aqua-0.9.4 qiskit-ibmq-provider-0.15.0 qiskit-ignis-0.6.0 qiskit-terra-0.18.0 quandl-3.6.1 requests-ntlm-1.1.0 retworkx-0.9.0 symengine-0.7.2 tweedledum-1.1.0 websocket-client-1.1.0 yfinance-0.1.62\n",
            "Collecting pylatexenc\n",
            "  Downloading pylatexenc-2.10.tar.gz (162 kB)\n",
            "\u001b[K     |████████████████████████████████| 162 kB 7.8 MB/s \n",
            "\u001b[?25hBuilding wheels for collected packages: pylatexenc\n",
            "  Building wheel for pylatexenc (setup.py) ... \u001b[?25l\u001b[?25hdone\n",
            "  Created wheel for pylatexenc: filename=pylatexenc-2.10-py3-none-any.whl size=136835 sha256=462ff9bd1b181d866bf73767250cdcb9e9b6e813e2c4dd7c8fe56d26a823fa8b\n",
            "  Stored in directory: /root/.cache/pip/wheels/f1/8a/f5/33ee79d4473eb201b519fa40f989b842e373237395a3421f52\n",
            "Successfully built pylatexenc\n",
            "Installing collected packages: pylatexenc\n",
            "Successfully installed pylatexenc-2.10\n"
          ],
          "name": "stdout"
        }
      ]
    },
    {
      "cell_type": "code",
      "metadata": {
        "id": "gTehwE8nteaR"
      },
      "source": [
        "import networkx as nx\n",
        "import matplotlib.pyplot as plt\n",
        "\n",
        "from qiskit import QuantumCircuit, ClassicalRegister, QuantumRegister\n",
        "from qiskit import Aer, execute\n",
        "from qiskit.circuit import Parameter\n",
        "\n",
        "from qiskit.visualization import plot_histogram"
      ],
      "execution_count": null,
      "outputs": []
    },
    {
      "cell_type": "markdown",
      "metadata": {
        "id": "Y3bRVtUEANWl"
      },
      "source": [
        "# **Define graph**"
      ]
    },
    {
      "cell_type": "code",
      "metadata": {
        "colab": {
          "base_uri": "https://localhost:8080/",
          "height": 319
        },
        "id": "5py5svSfuFLz",
        "outputId": "f0d9efea-f783-4ce9-c6a7-de0bc589df93"
      },
      "source": [
        "G = nx.Graph()\n",
        "G.add_nodes_from([0, 1, 2, 3])\n",
        "G.add_edges_from([(0, 1), (1, 2), (2, 3), (3, 0)])\n",
        "nx.draw(G, with_labels=True, alpha=0.8, node_size=500)"
      ],
      "execution_count": null,
      "outputs": [
        {
          "output_type": "display_data",
          "data": {
            "image/png": "[encoded data removed]",
            "text/plain": [
              "<Figure size 432x288 with 1 Axes>"
            ]
          },
          "metadata": {
            "tags": []
          }
        }
      ]
    },
    {
      "cell_type": "code",
      "metadata": {
        "colab": {
          "base_uri": "https://localhost:8080/"
        },
        "id": "Qd0CXtN7uTHA",
        "outputId": "7bcedf9d-c478-4f3b-9d6c-a46edf8f6e69"
      },
      "source": [
        "# Adjacency is essentially a matrix which tells you which nodes are\n",
        "# connected. This matrix is given as a sparse matrix, so we need to\n",
        "# convert it to a dense matrix\n",
        "adjacency = nx.adjacency_matrix(G).todense()\n",
        "adjacency"
      ],
      "execution_count": null,
      "outputs": [
        {
          "output_type": "execute_result",
          "data": {
            "text/plain": [
              "matrix([[0, 1, 0, 1],\n",
              "        [1, 0, 1, 0],\n",
              "        [0, 1, 0, 1],\n",
              "        [1, 0, 1, 0]], dtype=int64)"
            ]
          },
          "metadata": {
            "tags": []
          },
          "execution_count": 26
        }
      ]
    },
    {
      "cell_type": "markdown",
      "metadata": {
        "id": "k3SZEMrwAYQ0"
      },
      "source": [
        "# **Define QAOA**"
      ]
    },
    {
      "cell_type": "markdown",
      "metadata": {
        "id": "NsyX8X0FAbki"
      },
      "source": [
        "## Pauli-X mixer Hamiltonian"
      ]
    },
    {
      "cell_type": "code",
      "metadata": {
        "colab": {
          "base_uri": "https://localhost:8080/",
          "height": 231
        },
        "id": "47BUrESkuWJE",
        "outputId": "a298e5d9-046b-41bc-f61f-e7b3db096a28"
      },
      "source": [
        "nqubits = 4\n",
        "\n",
        "beta = Parameter(\"$\\\\beta$\")\n",
        "qc_mix = QuantumCircuit(nqubits)\n",
        "for i in range(0, nqubits):\n",
        "    qc_mix.rx(2 * beta, i)\n",
        "    \n",
        "qc_mix.draw(\"mpl\")"
      ],
      "execution_count": null,
      "outputs": [
        {
          "output_type": "execute_result",
          "data": {
            "image/png": "[encoded data removed]",
            "text/plain": [
              "<Figure size 146.797x264.88 with 1 Axes>"
            ]
          },
          "metadata": {
            "tags": []
          },
          "execution_count": 27
        }
      ]
    },
    {
      "cell_type": "markdown",
      "metadata": {
        "id": "jIAbW0ZaAgbg"
      },
      "source": [
        "## Problem Hamiltonian"
      ]
    },
    {
      "cell_type": "code",
      "metadata": {
        "colab": {
          "base_uri": "https://localhost:8080/",
          "height": 231
        },
        "id": "15nF3KnYuhqS",
        "outputId": "e9ce6e66-2ddb-4794-dcfc-51769f40f0d6"
      },
      "source": [
        "gamma = Parameter(\"$\\\\gamma$\")\n",
        "qc_p = QuantumCircuit(nqubits)\n",
        "for pair in list(G.edges()):  # pairs of nodes\n",
        "    qc_p.rzz(2 * gamma, pair[0], pair[1])\n",
        "    qc_p.barrier()\n",
        "    \n",
        "qc_p.decompose().draw(\"mpl\")"
      ],
      "execution_count": null,
      "outputs": [
        {
          "output_type": "execute_result",
          "data": {
            "image/png": "[encoded data removed]",
            "text/plain": [
              "<Figure size 1049.8x264.88 with 1 Axes>"
            ]
          },
          "metadata": {
            "tags": []
          },
          "execution_count": 28
        }
      ]
    },
    {
      "cell_type": "markdown",
      "metadata": {
        "id": "KXZ36j5xA-gn"
      },
      "source": [
        "## Initial superposition of all qubits"
      ]
    },
    {
      "cell_type": "code",
      "metadata": {
        "colab": {
          "base_uri": "https://localhost:8080/",
          "height": 231
        },
        "id": "M4JvHQ3VvT4R",
        "outputId": "8cc752cf-aa28-4f18-9f00-b6c954711230"
      },
      "source": [
        "qc_0 = QuantumCircuit(nqubits)\n",
        "for i in range(0, nqubits):\n",
        "    qc_0.h(i)\n",
        "    \n",
        "qc_0.draw(\"mpl\")"
      ],
      "execution_count": null,
      "outputs": [
        {
          "output_type": "execute_result",
          "data": {
            "image/png": "[encoded data removed]",
            "text/plain": [
              "<Figure size 146.797x264.88 with 1 Axes>"
            ]
          },
          "metadata": {
            "tags": []
          },
          "execution_count": 29
        }
      ]
    },
    {
      "cell_type": "markdown",
      "metadata": {
        "id": "MHHCBK1FBGZd"
      },
      "source": [
        "## Combine all circuit together"
      ]
    },
    {
      "cell_type": "code",
      "metadata": {
        "colab": {
          "base_uri": "https://localhost:8080/",
          "height": 231
        },
        "id": "BhOPvhbVvaT9",
        "outputId": "a86eb121-cbe9-459d-996c-84fda6ec1c45"
      },
      "source": [
        "qc_qaoa = QuantumCircuit(nqubits)\n",
        "\n",
        "qc_qaoa.append(qc_0, [i for i in range(0, nqubits)])\n",
        "qc_qaoa.append(qc_mix, [i for i in range(0, nqubits)])\n",
        "qc_qaoa.append(qc_p, [i for i in range(0, nqubits)])\n",
        "\n",
        "qc_qaoa.decompose().decompose().draw(\"mpl\")"
      ],
      "execution_count": null,
      "outputs": [
        {
          "output_type": "execute_result",
          "data": {
            "image/png": "[encoded data removed]",
            "text/plain": [
              "<Figure size 1170.2x264.88 with 1 Axes>"
            ]
          },
          "metadata": {
            "tags": []
          },
          "execution_count": 30
        }
      ]
    },
    {
      "cell_type": "markdown",
      "metadata": {
        "id": "FF0H4-GPx1RW"
      },
      "source": [
        "# **Compute Expectation**"
      ]
    },
    {
      "cell_type": "markdown",
      "metadata": {
        "id": "vedOn50SygtI"
      },
      "source": [
        "## MaxCut Objective function\n",
        "$$\\underset{s}{max}\\frac{1}{2}\\sum_{ij\\in E}(1-s_{i}s_{j})  \\quad\\quad s_{i} \\in \\begin{Bmatrix}\n",
        " -1&,+1 \n",
        "\\end{Bmatrix}$$\n",
        "given each node value with -1, +1 to maximize objective function"
      ]
    },
    {
      "cell_type": "code",
      "metadata": {
        "id": "kch-MBPqvlUJ"
      },
      "source": [
        "def maxcut_obj(x, G):\n",
        "    \"\"\"\n",
        "    Given a bitstring as a solution, this function returns\n",
        "    the number of edges shared between the two partitions\n",
        "    of the graph.\n",
        "    \n",
        "    Args:\n",
        "        x: str\n",
        "           solution bitstring\n",
        "           \n",
        "        G: networkx graph\n",
        "        \n",
        "    Returns:\n",
        "        obj: float\n",
        "             Objective\n",
        "    \"\"\"\n",
        "    obj = 0\n",
        "    for i, j in G.edges():\n",
        "        if x[i] != x[j]:\n",
        "            obj -= 1\n",
        "            \n",
        "    return obj\n",
        "\n",
        "\n",
        "def compute_expectation(counts, G):\n",
        "    \n",
        "    \"\"\"\n",
        "    Computes expectation value based on measurement results\n",
        "    \n",
        "    Args:\n",
        "        counts: dict\n",
        "                key as bitstring, val as count\n",
        "           \n",
        "        G: networkx graph\n",
        "        \n",
        "    Returns:\n",
        "        avg: float\n",
        "             expectation value\n",
        "    \"\"\"\n",
        "    \n",
        "    avg = 0\n",
        "    sum_count = 0\n",
        "    for bitstring, count in counts.items():\n",
        "        \n",
        "        obj = maxcut_obj(bitstring, G)\n",
        "        avg += obj * count\n",
        "        sum_count += count\n",
        "        \n",
        "    return avg/sum_count\n",
        "\n",
        "\n",
        "# We will also bring the different circuit components that\n",
        "# build the qaoa circuit under a single function\n",
        "def create_qaoa_circ(G, theta):\n",
        "    \n",
        "    \"\"\"\n",
        "    Creates a parametrized qaoa circuit\n",
        "    \n",
        "    Args:  \n",
        "        G: networkx graph\n",
        "        theta: list\n",
        "               unitary parameters\n",
        "                     \n",
        "    Returns:\n",
        "        qc: qiskit circuit\n",
        "    \"\"\"\n",
        "    \n",
        "    nqubits = len(G.nodes())\n",
        "    p = len(theta)//2  # number of alternating unitaries\n",
        "    qc = QuantumCircuit(nqubits)\n",
        "    \n",
        "    beta = theta[:p]\n",
        "    gamma = theta[p:]\n",
        "    \n",
        "    # initial_state\n",
        "    for i in range(0, nqubits):\n",
        "        qc.h(i)\n",
        "    \n",
        "    for irep in range(0, p):\n",
        "        \n",
        "        # problem unitary\n",
        "        for pair in list(G.edges()):\n",
        "            qc.rzz(2 * gamma[irep], pair[0], pair[1])\n",
        "\n",
        "        # mixer unitary\n",
        "        for i in range(0, nqubits):\n",
        "            qc.rx(2 * beta[irep], i)\n",
        "            \n",
        "    qc.measure_all()\n",
        "        \n",
        "    return qc\n",
        "\n",
        "# Finally we write a function that executes the circuit on the chosen backend\n",
        "def get_expectation(G, p, shots=512):\n",
        "    \n",
        "    \"\"\"\n",
        "    Runs parametrized circuit\n",
        "    \n",
        "    Args:\n",
        "        G: networkx graph\n",
        "        p: int,\n",
        "           Number of repetitions of unitaries\n",
        "    \"\"\"\n",
        "    \n",
        "    backend = Aer.get_backend('qasm_simulator')\n",
        "    backend.shots = shots\n",
        "    \n",
        "    def execute_circ(theta):\n",
        "        \n",
        "        qc = create_qaoa_circ(G, theta)\n",
        "        counts = backend.run(qc, seed_simulator=10, \n",
        "                             nshots=512).result().get_counts()\n",
        "        \n",
        "        return compute_expectation(counts, G)\n",
        "    \n",
        "    return execute_circ"
      ],
      "execution_count": null,
      "outputs": []
    },
    {
      "cell_type": "markdown",
      "metadata": {
        "id": "au40rJ3e1fuN"
      },
      "source": [
        "# **Optimization**"
      ]
    },
    {
      "cell_type": "code",
      "metadata": {
        "colab": {
          "base_uri": "https://localhost:8080/"
        },
        "id": "45LC49Zl78RD",
        "outputId": "338dffea-2038-4fef-c23a-5c157379923c"
      },
      "source": [
        "from scipy.optimize import minimize\n",
        "\n",
        "\n",
        "expectation = get_expectation(G, p=2)\n",
        "\n",
        "res = minimize(expectation, \n",
        "                      [1.0, 1.0 ,1.0, 1.0], \n",
        "                      method='COBYLA')\n",
        "res"
      ],
      "execution_count": null,
      "outputs": [
        {
          "output_type": "execute_result",
          "data": {
            "text/plain": [
              "     fun: -3.92578125\n",
              "   maxcv: 0.0\n",
              " message: 'Optimization terminated successfully.'\n",
              "    nfev: 40\n",
              "  status: 1\n",
              " success: True\n",
              "       x: array([2.08522423, 2.1753362 , 1.00239937, 1.056763  ])"
            ]
          },
          "metadata": {
            "tags": []
          },
          "execution_count": 32
        }
      ]
    },
    {
      "cell_type": "code",
      "metadata": {
        "colab": {
          "base_uri": "https://localhost:8080/",
          "height": 353
        },
        "id": "f8_nNWMo79Pm",
        "outputId": "0722f57e-9c19-4c2d-9d59-6a65b43bd9b0"
      },
      "source": [
        "backend = Aer.get_backend('aer_simulator')\n",
        "backend.shots = 512\n",
        "\n",
        "qc_res = create_qaoa_circ(G, res.x)\n",
        "\n",
        "counts = backend.run(qc_res, seed_simulator=10).result().get_counts()\n",
        "\n",
        "plot_histogram(counts)"
      ],
      "execution_count": null,
      "outputs": [
        {
          "output_type": "execute_result",
          "data": {
            "image/png": "[encoded data removed]",
            "text/plain": [
              "<Figure size 504x360 with 1 Axes>"
            ]
          },
          "metadata": {
            "tags": []
          },
          "execution_count": 33
        }
      ]
    },
    {
      "cell_type": "code",
      "metadata": {
        "colab": {
          "base_uri": "https://localhost:8080/",
          "height": 276
        },
        "id": "YI1GDmK07_AG",
        "outputId": "4fd830dd-bb55-490f-e129-f746aad7145f"
      },
      "source": [
        "qc_res.draw(\"mpl\")"
      ],
      "execution_count": null,
      "outputs": [
        {
          "output_type": "execute_result",
          "data": {
            "image/png": "[encoded data removed]",
            "text/plain": [
              "<Figure size 1260.68x325.08 with 1 Axes>"
            ]
          },
          "metadata": {
            "tags": []
          },
          "execution_count": 34
        }
      ]
    },
    {
      "cell_type": "code",
      "metadata": {
        "id": "MyrmFdT-8IXh"
      },
      "source": [
        ""
      ],
      "execution_count": null,
      "outputs": []
    }
  ]
}